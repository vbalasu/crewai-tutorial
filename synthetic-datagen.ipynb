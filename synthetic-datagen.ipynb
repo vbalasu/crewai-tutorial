{
 "cells": [
  {
   "cell_type": "code",
   "execution_count": 2,
   "metadata": {},
   "outputs": [],
   "source": [
    "import warnings\n",
    "warnings.filterwarnings('ignore')"
   ]
  },
  {
   "cell_type": "code",
   "execution_count": 3,
   "metadata": {},
   "outputs": [
    {
     "name": "stdout",
     "output_type": "stream",
     "text": [
      "gpt-4o-mini\n"
     ]
    }
   ],
   "source": [
    "import os\n",
    "from dotenv import load_dotenv\n",
    "load_dotenv()\n",
    "print(os.environ.get('OPENAI_MODEL_NAME'))"
   ]
  },
  {
   "cell_type": "code",
   "execution_count": 4,
   "metadata": {},
   "outputs": [],
   "source": [
    "from crewai import Agent, LLM\n",
    "\n",
    "schema_creator_agent = Agent(\n",
    "    role='Schema Creator',\n",
    "    goal='Generate a SQLite database schema that includes relevant fields and data types based on a given business use case.',\n",
    "    backstory=\"\"\"You are an expert database architect with extensive experience in designing database schemas.\n",
    "Your mission is to analyze business requirements and translate them into efficient SQLite table schemas.\n",
    "You focus on ensuring data integrity, normalization, and optimal storage of data related to the business use case.\"\"\",\n",
    "    llm=LLM(model=\"ollama/llama3.1:70b\", base_url=\"http://localhost:11434\"),  # Optional: Defaults to the model specified in OPENAI_MODEL_NAME environment variable\n",
    "    tools=[],  # Optional: Add any tools the agent might need\n",
    "    max_iter=25,  # Optional: Maximum iterations the agent can perform\n",
    "    verbose=False,  # Optional: Set to True to enable detailed logs\n",
    "    allow_delegation=False,  # Optional: Whether the agent can delegate tasks\n",
    "    # Additional optional parameters can be added as needed\n",
    ")"
   ]
  },
  {
   "cell_type": "code",
   "execution_count": 5,
   "metadata": {},
   "outputs": [],
   "source": [
    "from crewai import Task\n",
    "\n",
    "# Assume 'schema_creator_agent' is already defined as per previous code\n",
    "# Define the business use case\n",
    "business_use_case = \"An e-commerce platform needs to store customer order information, including customer details, order items, quantities, prices, and order dates.\"\n",
    "\n",
    "# Create the Schema Generation Task\n",
    "schema_generation_task = Task(\n",
    "    description=(\n",
    "        f\"Based on the following business use case, generate a SQLite database schema:\\n\\n\"\n",
    "        f\"{business_use_case}\"\n",
    "    ),\n",
    "    agent=schema_creator_agent,\n",
    "    expected_output=(\n",
    "        \"A SQLite CREATE TABLE statement defining a table with relevant fields and data types \"\n",
    "        \"to store data related to the given business use case.\"\n",
    "    ),\n",
    "    tools=[],  # Optional: Add any tools the agent might need\n",
    "    async_execution=False,  # Optional: Execute synchronously\n",
    "    context=[],  # Optional: No prior tasks needed for context\n",
    "    human_input=False,  # Optional: No human review required\n",
    "    # Additional optional parameters can be added as needed\n",
    ")"
   ]
  },
  {
   "cell_type": "code",
   "execution_count": 6,
   "metadata": {},
   "outputs": [
    {
     "name": "stdout",
     "output_type": "stream",
     "text": [
      "\u001b[1m\u001b[95m# Agent:\u001b[00m \u001b[1m\u001b[92mSchema Creator\u001b[00m\n",
      "\u001b[95m## Task:\u001b[00m \u001b[92mBased on the following business use case, generate a SQLite database schema:\n",
      "\n",
      "An e-commerce platform needs to store customer order information, including customer details, order items, quantities, prices, and order dates.\u001b[00m\n",
      "\n",
      "\n",
      "\u001b[1m\u001b[95m# Agent:\u001b[00m \u001b[1m\u001b[92mSchema Creator\u001b[00m\n",
      "\u001b[95m## Final Answer:\u001b[00m \u001b[92m\n",
      "```sql\n",
      "CREATE TABLE Customers (\n",
      "  CustomerID INTEGER PRIMARY KEY,\n",
      "  FirstName TEXT NOT NULL,\n",
      "  LastName TEXT NOT NULL,\n",
      "  Email TEXT UNIQUE NOT NULL,\n",
      "  Address TEXT,\n",
      "  City TEXT,\n",
      "  State TEXT,\n",
      "  PostalCode TEXT,\n",
      "  Country TEXT\n",
      ");\n",
      "\n",
      "CREATE TABLE Orders (\n",
      "  OrderID INTEGER PRIMARY KEY,\n",
      "  CustomerID INTEGER NOT NULL,\n",
      "  OrderDate DATE NOT NULL,\n",
      "  TotalCost REAL NOT NULL,\n",
      "  FOREIGN KEY (CustomerID) REFERENCES Customers(CustomerID)\n",
      ");\n",
      "\n",
      "CREATE TABLE Products (\n",
      "  ProductID INTEGER PRIMARY KEY,\n",
      "  ProductName TEXT NOT NULL,\n",
      "  Price REAL NOT NULL\n",
      ");\n",
      "\n",
      "CREATE TABLE OrderItems (\n",
      "  OrderItemID INTEGER PRIMARY KEY,\n",
      "  OrderID INTEGER NOT NULL,\n",
      "  ProductID INTEGER NOT NULL,\n",
      "  Quantity INTEGER NOT NULL,\n",
      "  UnitPrice REAL NOT NULL,\n",
      "  FOREIGN KEY (OrderID) REFERENCES Orders(OrderID),\n",
      "  FOREIGN KEY (ProductID) REFERENCES Products(ProductID)\n",
      ");\n",
      "```\n",
      "This SQLite database schema includes four tables: `Customers`, `Orders`, `Products`, and `OrderItems`. The `Customers` table stores customer information, including a unique identifier (`CustomerID`). The `Orders` table stores order information, including the customer who made the order (`CustomerID`) and the date of the order (`OrderDate`). The `Products` table stores product information, including a unique identifier (`ProductID`) and the price of each product. The `OrderItems` table stores individual items within an order, including the order it belongs to (`OrderID`), the product being ordered (`ProductID`), the quantity of the item, and the unit price of the item.\n",
      "\n",
      "This schema is designed to ensure data integrity by using foreign keys to link related tables together. The `Orders` table has a foreign key referencing the `Customers` table, ensuring that each order is associated with a valid customer. Similarly, the `OrderItems` table has foreign keys referencing both the `Orders` and `Products` tables, ensuring that each item within an order is linked to a valid order and product.\n",
      "\n",
      "This schema also follows normalization principles by separating data into separate tables based on their relationships. For example, customer information is stored in the `Customers` table, while order information is stored in the `Orders` table. This makes it easier to manage and query the data.\u001b[00m\n",
      "\n",
      "\n",
      "Generated SQLite Schema:\n",
      "```sql\n",
      "CREATE TABLE Customers (\n",
      "  CustomerID INTEGER PRIMARY KEY,\n",
      "  FirstName TEXT NOT NULL,\n",
      "  LastName TEXT NOT NULL,\n",
      "  Email TEXT UNIQUE NOT NULL,\n",
      "  Address TEXT,\n",
      "  City TEXT,\n",
      "  State TEXT,\n",
      "  PostalCode TEXT,\n",
      "  Country TEXT\n",
      ");\n",
      "\n",
      "CREATE TABLE Orders (\n",
      "  OrderID INTEGER PRIMARY KEY,\n",
      "  CustomerID INTEGER NOT NULL,\n",
      "  OrderDate DATE NOT NULL,\n",
      "  TotalCost REAL NOT NULL,\n",
      "  FOREIGN KEY (CustomerID) REFERENCES Customers(CustomerID)\n",
      ");\n",
      "\n",
      "CREATE TABLE Products (\n",
      "  ProductID INTEGER PRIMARY KEY,\n",
      "  ProductName TEXT NOT NULL,\n",
      "  Price REAL NOT NULL\n",
      ");\n",
      "\n",
      "CREATE TABLE OrderItems (\n",
      "  OrderItemID INTEGER PRIMARY KEY,\n",
      "  OrderID INTEGER NOT NULL,\n",
      "  ProductID INTEGER NOT NULL,\n",
      "  Quantity INTEGER NOT NULL,\n",
      "  UnitPrice REAL NOT NULL,\n",
      "  FOREIGN KEY (OrderID) REFERENCES Orders(OrderID),\n",
      "  FOREIGN KEY (ProductID) REFERENCES Products(ProductID)\n",
      ");\n",
      "```\n",
      "This SQLite database schema includes four tables: `Customers`, `Orders`, `Products`, and `OrderItems`. The `Customers` table stores customer information, including a unique identifier (`CustomerID`). The `Orders` table stores order information, including the customer who made the order (`CustomerID`) and the date of the order (`OrderDate`). The `Products` table stores product information, including a unique identifier (`ProductID`) and the price of each product. The `OrderItems` table stores individual items within an order, including the order it belongs to (`OrderID`), the product being ordered (`ProductID`), the quantity of the item, and the unit price of the item.\n",
      "\n",
      "This schema is designed to ensure data integrity by using foreign keys to link related tables together. The `Orders` table has a foreign key referencing the `Customers` table, ensuring that each order is associated with a valid customer. Similarly, the `OrderItems` table has foreign keys referencing both the `Orders` and `Products` tables, ensuring that each item within an order is linked to a valid order and product.\n",
      "\n",
      "This schema also follows normalization principles by separating data into separate tables based on their relationships. For example, customer information is stored in the `Customers` table, while order information is stored in the `Orders` table. This makes it easier to manage and query the data.\n"
     ]
    }
   ],
   "source": [
    "from crewai import Crew\n",
    "\n",
    "# Instantiate the crew with the agent and task\n",
    "crew = Crew(\n",
    "    agents=[schema_creator_agent],\n",
    "    tasks=[schema_generation_task],\n",
    "    verbose=True  # Optional: Set to True to enable detailed logs\n",
    ")\n",
    "\n",
    "# Kick off the crew to execute the task\n",
    "crew_result = crew.kickoff()\n",
    "\n",
    "# Access the output of the task\n",
    "schema_output = schema_generation_task.output.raw\n",
    "print(\"Generated SQLite Schema:\")\n",
    "print(schema_output)"
   ]
  },
  {
   "cell_type": "markdown",
   "metadata": {},
   "source": [
    "#### Link to ChatGPT thread\n",
    "\n",
    "https://chatgpt.com/share/6711db06-23c0-8001-a416-a7b675f4e89f"
   ]
  },
  {
   "cell_type": "markdown",
   "metadata": {},
   "source": []
  }
 ],
 "metadata": {
  "kernelspec": {
   "display_name": "venv",
   "language": "python",
   "name": "python3"
  },
  "language_info": {
   "codemirror_mode": {
    "name": "ipython",
    "version": 3
   },
   "file_extension": ".py",
   "mimetype": "text/x-python",
   "name": "python",
   "nbconvert_exporter": "python",
   "pygments_lexer": "ipython3",
   "version": "3.11.5"
  }
 },
 "nbformat": 4,
 "nbformat_minor": 2
}
