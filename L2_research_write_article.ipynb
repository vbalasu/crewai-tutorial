{
 "cells": [
  {
   "cell_type": "markdown",
   "metadata": {},
   "source": [
    "You can download the `requirements.txt` for this course from the workspace of this lab. `File --> Open...`"
   ]
  },
  {
   "cell_type": "markdown",
   "metadata": {},
   "source": [
    "# L2: Create Agents to Research and Write an Article\n",
    "\n",
    "In this lesson, you will be introduced to the foundational concepts of multi-agent systems and get an overview of the crewAI framework."
   ]
  },
  {
   "cell_type": "markdown",
   "metadata": {},
   "source": [
    "The libraries are already installed in the classroom. If you're running this notebook on your own machine, you can install the following:\n",
    "```Python\n",
    "!pip install crewai==0.28.8 crewai_tools==0.1.6 langchain_community==0.0.29\n",
    "```"
   ]
  },
  {
   "cell_type": "code",
   "execution_count": 25,
   "metadata": {
    "height": 64
   },
   "outputs": [],
   "source": [
    "# Warning control\n",
    "import warnings\n",
    "warnings.filterwarnings('ignore')"
   ]
  },
  {
   "cell_type": "markdown",
   "metadata": {},
   "source": [
    "- Import from the crewAI libray."
   ]
  },
  {
   "cell_type": "code",
   "execution_count": 26,
   "metadata": {
    "height": 30
   },
   "outputs": [],
   "source": [
    "from crewai import Agent, Task, Crew"
   ]
  },
  {
   "cell_type": "markdown",
   "metadata": {},
   "source": [
    "- As a LLM for your agents, you'll be using OpenAI's `gpt-3.5-turbo`.\n",
    "\n",
    "**Optional Note:** crewAI also allow other popular models to be used as a LLM for your Agents. You can see some of the examples at the [bottom of the notebook](#1)."
   ]
  },
  {
   "cell_type": "code",
   "execution_count": 3,
   "metadata": {
    "height": 98
   },
   "outputs": [],
   "source": [
    "import os\n",
    "from utils import get_openai_api_key\n",
    "\n",
    "openai_api_key = get_openai_api_key()\n",
    "os.environ[\"OPENAI_MODEL_NAME\"] = 'gpt-3.5-turbo'"
   ]
  },
  {
   "cell_type": "markdown",
   "metadata": {},
   "source": [
    "## Creating Agents\n",
    "\n",
    "- Define your Agents, and provide them a `role`, `goal` and `backstory`.\n",
    "- It has been seen that LLMs perform better when they are role playing."
   ]
  },
  {
   "cell_type": "markdown",
   "metadata": {},
   "source": [
    "### Agent: Planner\n",
    "\n",
    "**Note**: The benefit of using _multiple strings_ :\n",
    "```Python\n",
    "varname = \"line 1 of text\"\n",
    "          \"line 2 of text\"\n",
    "```\n",
    "\n",
    "versus the _triple quote docstring_:\n",
    "```Python\n",
    "varname = \"\"\"line 1 of text\n",
    "             line 2 of text\n",
    "          \"\"\"\n",
    "```\n",
    "is that it can avoid adding those whitespaces and newline characters, making it better formatted to be passed to the LLM."
   ]
  },
  {
   "cell_type": "code",
   "execution_count": 4,
   "metadata": {
    "height": 234
   },
   "outputs": [],
   "source": [
    "planner = Agent(\n",
    "    role=\"Content Planner\",\n",
    "    goal=\"Plan engaging and factually accurate content on {topic}\",\n",
    "    backstory=\"You're working on planning a blog article \"\n",
    "              \"about the topic: {topic}.\"\n",
    "              \"You collect information that helps the \"\n",
    "              \"audience learn something \"\n",
    "              \"and make informed decisions. \"\n",
    "              \"Your work is the basis for \"\n",
    "              \"the Content Writer to write an article on this topic.\",\n",
    "    allow_delegation=False,\n",
    "\tverbose=True\n",
    ")"
   ]
  },
  {
   "cell_type": "markdown",
   "metadata": {},
   "source": [
    "### Agent: Writer"
   ]
  },
  {
   "cell_type": "code",
   "execution_count": 5,
   "metadata": {
    "height": 370
   },
   "outputs": [],
   "source": [
    "writer = Agent(\n",
    "    role=\"Content Writer\",\n",
    "    goal=\"Write insightful and factually accurate \"\n",
    "         \"opinion piece about the topic: {topic}\",\n",
    "    backstory=\"You're working on a writing \"\n",
    "              \"a new opinion piece about the topic: {topic}. \"\n",
    "              \"You base your writing on the work of \"\n",
    "              \"the Content Planner, who provides an outline \"\n",
    "              \"and relevant context about the topic. \"\n",
    "              \"You follow the main objectives and \"\n",
    "              \"direction of the outline, \"\n",
    "              \"as provide by the Content Planner. \"\n",
    "              \"You also provide objective and impartial insights \"\n",
    "              \"and back them up with information \"\n",
    "              \"provide by the Content Planner. \"\n",
    "              \"You acknowledge in your opinion piece \"\n",
    "              \"when your statements are opinions \"\n",
    "              \"as opposed to objective statements.\",\n",
    "    allow_delegation=False,\n",
    "    verbose=True\n",
    ")"
   ]
  },
  {
   "cell_type": "markdown",
   "metadata": {},
   "source": [
    "### Agent: Editor"
   ]
  },
  {
   "cell_type": "code",
   "execution_count": 6,
   "metadata": {
    "height": 268
   },
   "outputs": [],
   "source": [
    "editor = Agent(\n",
    "    role=\"Editor\",\n",
    "    goal=\"Edit a given blog post to align with \"\n",
    "         \"the writing style of the organization. \",\n",
    "    backstory=\"You are an editor who receives a blog post \"\n",
    "              \"from the Content Writer. \"\n",
    "              \"Your goal is to review the blog post \"\n",
    "              \"to ensure that it follows journalistic best practices,\"\n",
    "              \"provides balanced viewpoints \"\n",
    "              \"when providing opinions or assertions, \"\n",
    "              \"and also avoids major controversial topics \"\n",
    "              \"or opinions when possible.\",\n",
    "    allow_delegation=False,\n",
    "    verbose=True\n",
    ")"
   ]
  },
  {
   "cell_type": "markdown",
   "metadata": {},
   "source": [
    "## Creating Tasks\n",
    "\n",
    "- Define your Tasks, and provide them a `description`, `expected_output` and `agent`."
   ]
  },
  {
   "cell_type": "markdown",
   "metadata": {},
   "source": [
    "### Task: Plan"
   ]
  },
  {
   "cell_type": "code",
   "execution_count": 7,
   "metadata": {
    "height": 268
   },
   "outputs": [],
   "source": [
    "plan = Task(\n",
    "    description=(\n",
    "        \"1. Prioritize the latest trends, key players, \"\n",
    "            \"and noteworthy news on {topic}.\\n\"\n",
    "        \"2. Identify the target audience, considering \"\n",
    "            \"their interests and pain points.\\n\"\n",
    "        \"3. Develop a detailed content outline including \"\n",
    "            \"an introduction, key points, and a call to action.\\n\"\n",
    "        \"4. Include SEO keywords and relevant data or sources.\"\n",
    "    ),\n",
    "    expected_output=\"A comprehensive content plan document \"\n",
    "        \"with an outline, audience analysis, \"\n",
    "        \"SEO keywords, and resources.\",\n",
    "    agent=planner,\n",
    ")"
   ]
  },
  {
   "cell_type": "markdown",
   "metadata": {},
   "source": [
    "### Task: Write"
   ]
  },
  {
   "cell_type": "code",
   "execution_count": 8,
   "metadata": {
    "height": 319
   },
   "outputs": [],
   "source": [
    "write = Task(\n",
    "    description=(\n",
    "        \"1. Use the content plan to craft a compelling \"\n",
    "            \"blog post on {topic}.\\n\"\n",
    "        \"2. Incorporate SEO keywords naturally.\\n\"\n",
    "\t\t\"3. Sections/Subtitles are properly named \"\n",
    "            \"in an engaging manner.\\n\"\n",
    "        \"4. Ensure the post is structured with an \"\n",
    "            \"engaging introduction, insightful body, \"\n",
    "            \"and a summarizing conclusion.\\n\"\n",
    "        \"5. Proofread for grammatical errors and \"\n",
    "            \"alignment with the brand's voice.\\n\"\n",
    "    ),\n",
    "    expected_output=\"A well-written blog post \"\n",
    "        \"in markdown format, ready for publication, \"\n",
    "        \"each section should have 2 or 3 paragraphs.\",\n",
    "    agent=writer,\n",
    ")"
   ]
  },
  {
   "cell_type": "markdown",
   "metadata": {},
   "source": [
    "### Task: Edit"
   ]
  },
  {
   "cell_type": "code",
   "execution_count": 9,
   "metadata": {
    "height": 166
   },
   "outputs": [],
   "source": [
    "edit = Task(\n",
    "    description=(\"Proofread the given blog post for \"\n",
    "                 \"grammatical errors and \"\n",
    "                 \"alignment with the brand's voice.\"),\n",
    "    expected_output=\"A well-written blog post in markdown format, \"\n",
    "                    \"ready for publication, \"\n",
    "                    \"each section should have 2 or 3 paragraphs.\",\n",
    "    agent=editor\n",
    ")"
   ]
  },
  {
   "cell_type": "markdown",
   "metadata": {},
   "source": [
    "## Creating the Crew\n",
    "\n",
    "- Create your crew of Agents\n",
    "- Pass the tasks to be performed by those agents.\n",
    "    - **Note**: *For this simple example*, the tasks will be performed sequentially (i.e they are dependent on each other), so the _order_ of the task in the list _matters_.\n",
    "- `verbose=2` allows you to see all the logs of the execution. "
   ]
  },
  {
   "cell_type": "code",
   "execution_count": 10,
   "metadata": {
    "height": 98
   },
   "outputs": [],
   "source": [
    "crew = Crew(\n",
    "    agents=[planner, writer, editor],\n",
    "    tasks=[plan, write, edit],\n",
    "    verbose=2\n",
    ")"
   ]
  },
  {
   "cell_type": "markdown",
   "metadata": {},
   "source": [
    "## Running the Crew"
   ]
  },
  {
   "cell_type": "markdown",
   "metadata": {},
   "source": [
    "**Note**: LLMs can provide different outputs for they same input, so what you get might be different than what you see in the video."
   ]
  },
  {
   "cell_type": "code",
   "execution_count": 11,
   "metadata": {
    "height": 30
   },
   "outputs": [
    {
     "name": "stdout",
     "output_type": "stream",
     "text": [
      "\u001b[1m\u001b[95m [DEBUG]: == Working Agent: Content Planner\u001b[00m\n",
      "\u001b[1m\u001b[95m [INFO]: == Starting Task: 1. Prioritize the latest trends, key players, and noteworthy news on Artificial Intelligence.\n",
      "2. Identify the target audience, considering their interests and pain points.\n",
      "3. Develop a detailed content outline including an introduction, key points, and a call to action.\n",
      "4. Include SEO keywords and relevant data or sources.\u001b[00m\n",
      "\n",
      "\n",
      "\u001b[1m> Entering new CrewAgentExecutor chain...\u001b[0m\n",
      "\u001b[32;1m\u001b[1;3mI now can give a great answer\n",
      "\n",
      "Final Answer: \n",
      "\n",
      "Content Plan Document:\n",
      "\n",
      "Title: The Latest Trends in Artificial Intelligence: A Comprehensive Guide\n",
      "\n",
      "Introduction:\n",
      "- Definition of Artificial Intelligence\n",
      "- Importance of staying updated on AI trends\n",
      "- Overview of key players in the AI industry\n",
      "\n",
      "Key Points:\n",
      "1. Latest Trends in Artificial Intelligence\n",
      "- Machine learning advancements\n",
      "- Natural language processing developments\n",
      "- Autonomous vehicles and robotics\n",
      "- AI in healthcare and finance\n",
      "\n",
      "2. Key Players in the AI Industry\n",
      "- Google DeepMind\n",
      "- IBM Watson\n",
      "- Microsoft Azure\n",
      "- Tesla\n",
      "\n",
      "3. Noteworthy News in Artificial Intelligence\n",
      "- Recent breakthroughs in AI research\n",
      "- Impact of AI on various industries\n",
      "- Ethical considerations in AI development\n",
      "\n",
      "Audience Analysis:\n",
      "Target Audience: Tech enthusiasts, industry professionals, students, and business owners\n",
      "Interests: Cutting-edge technology, innovation, AI applications in different sectors\n",
      "Pain Points: Keeping up with rapidly evolving AI trends, understanding the implications of AI on society and the workforce\n",
      "\n",
      "Content Outline:\n",
      "- Introduction to Artificial Intelligence\n",
      "- Latest Trends in AI\n",
      "- Key Players in the AI Industry\n",
      "- Noteworthy News in AI\n",
      "- Case studies and examples of AI applications\n",
      "- Future outlook for AI technology\n",
      "\n",
      "Call to Action:\n",
      "- Encourage readers to stay informed about AI trends\n",
      "- Provide resources for further reading and research on AI\n",
      "- Invite audience to share their thoughts and experiences with AI technology\n",
      "\n",
      "SEO Keywords:\n",
      "- Artificial Intelligence trends\n",
      "- Latest AI developments\n",
      "- Key players in AI industry\n",
      "- AI news and updates\n",
      "- Future of Artificial Intelligence\n",
      "\n",
      "Resources:\n",
      "- Forbes: Artificial Intelligence News\n",
      "- MIT Technology Review: AI Trends and Insights\n",
      "- TechCrunch: Latest Developments in AI\n",
      "- World Economic Forum: Impact of AI on Society\n",
      "\n",
      "This comprehensive content plan document outlines the key elements for a blog article on the latest trends in Artificial Intelligence. By prioritizing recent developments, analyzing the target audience, and incorporating relevant SEO keywords and resources, the article aims to engage readers and provide valuable insights into the world of AI technology.\u001b[0m\n",
      "\n",
      "\u001b[1m> Finished chain.\u001b[0m\n",
      "\u001b[1m\u001b[92m [DEBUG]: == [Content Planner] Task output: Content Plan Document:\n",
      "\n",
      "Title: The Latest Trends in Artificial Intelligence: A Comprehensive Guide\n",
      "\n",
      "Introduction:\n",
      "- Definition of Artificial Intelligence\n",
      "- Importance of staying updated on AI trends\n",
      "- Overview of key players in the AI industry\n",
      "\n",
      "Key Points:\n",
      "1. Latest Trends in Artificial Intelligence\n",
      "- Machine learning advancements\n",
      "- Natural language processing developments\n",
      "- Autonomous vehicles and robotics\n",
      "- AI in healthcare and finance\n",
      "\n",
      "2. Key Players in the AI Industry\n",
      "- Google DeepMind\n",
      "- IBM Watson\n",
      "- Microsoft Azure\n",
      "- Tesla\n",
      "\n",
      "3. Noteworthy News in Artificial Intelligence\n",
      "- Recent breakthroughs in AI research\n",
      "- Impact of AI on various industries\n",
      "- Ethical considerations in AI development\n",
      "\n",
      "Audience Analysis:\n",
      "Target Audience: Tech enthusiasts, industry professionals, students, and business owners\n",
      "Interests: Cutting-edge technology, innovation, AI applications in different sectors\n",
      "Pain Points: Keeping up with rapidly evolving AI trends, understanding the implications of AI on society and the workforce\n",
      "\n",
      "Content Outline:\n",
      "- Introduction to Artificial Intelligence\n",
      "- Latest Trends in AI\n",
      "- Key Players in the AI Industry\n",
      "- Noteworthy News in AI\n",
      "- Case studies and examples of AI applications\n",
      "- Future outlook for AI technology\n",
      "\n",
      "Call to Action:\n",
      "- Encourage readers to stay informed about AI trends\n",
      "- Provide resources for further reading and research on AI\n",
      "- Invite audience to share their thoughts and experiences with AI technology\n",
      "\n",
      "SEO Keywords:\n",
      "- Artificial Intelligence trends\n",
      "- Latest AI developments\n",
      "- Key players in AI industry\n",
      "- AI news and updates\n",
      "- Future of Artificial Intelligence\n",
      "\n",
      "Resources:\n",
      "- Forbes: Artificial Intelligence News\n",
      "- MIT Technology Review: AI Trends and Insights\n",
      "- TechCrunch: Latest Developments in AI\n",
      "- World Economic Forum: Impact of AI on Society\n",
      "\n",
      "This comprehensive content plan document outlines the key elements for a blog article on the latest trends in Artificial Intelligence. By prioritizing recent developments, analyzing the target audience, and incorporating relevant SEO keywords and resources, the article aims to engage readers and provide valuable insights into the world of AI technology.\n",
      "\n",
      "\u001b[00m\n",
      "\u001b[1m\u001b[95m [DEBUG]: == Working Agent: Content Writer\u001b[00m\n",
      "\u001b[1m\u001b[95m [INFO]: == Starting Task: 1. Use the content plan to craft a compelling blog post on Artificial Intelligence.\n",
      "2. Incorporate SEO keywords naturally.\n",
      "3. Sections/Subtitles are properly named in an engaging manner.\n",
      "4. Ensure the post is structured with an engaging introduction, insightful body, and a summarizing conclusion.\n",
      "5. Proofread for grammatical errors and alignment with the brand's voice.\n",
      "\u001b[00m\n",
      "\n",
      "\n",
      "\u001b[1m> Entering new CrewAgentExecutor chain...\u001b[0m\n",
      "\u001b[32;1m\u001b[1;3mI now have a clear understanding of the key points and structure outlined in the content plan. I can craft a compelling blog post on Artificial Intelligence that will engage the target audience and provide valuable insights on the latest trends in AI.\n",
      "\n",
      "Final Answer:\n",
      "\n",
      "# The Latest Trends in Artificial Intelligence: A Comprehensive Guide\n",
      "\n",
      "## Introduction to Artificial Intelligence\n",
      "Artificial Intelligence, often abbreviated as AI, is a rapidly evolving field that focuses on creating intelligent machines capable of performing tasks that typically require human intelligence. From machine learning advancements to natural language processing developments, AI technology is continuously pushing boundaries and transforming various industries. Staying updated on AI trends is crucial for tech enthusiasts, industry professionals, students, and business owners to understand the implications of this cutting-edge technology on society and the workforce.\n",
      "\n",
      "## Latest Trends in AI\n",
      "In recent years, AI has seen significant advancements in machine learning, enabling machines to learn from data and improve their performance without explicit programming. Natural language processing has also made great strides, allowing machines to understand, interpret, and generate human language. Autonomous vehicles and robotics are becoming more prevalent, revolutionizing transportation and manufacturing. Moreover, AI applications in healthcare and finance are enhancing decision-making processes and improving patient care and financial services.\n",
      "\n",
      "## Key Players in the AI Industry\n",
      "Several key players in the AI industry are leading the way in innovation and research. Google DeepMind, known for its AlphaGo program, has made significant contributions to AI research. IBM Watson is a pioneer in cognitive computing and AI solutions for businesses. Microsoft Azure offers a range of AI tools and services to empower organizations with AI capabilities. Tesla, with its self-driving technology, is at the forefront of autonomous vehicles and AI integration.\n",
      "\n",
      "## Noteworthy News in AI\n",
      "Recent breakthroughs in AI research, such as OpenAI's GPT-3 language model, have garnered attention for their impressive capabilities. The impact of AI on various industries, from retail to manufacturing, is reshaping business operations and customer experiences. Ethical considerations in AI development, such as bias in algorithms and data privacy concerns, are increasingly important topics for discussion and regulation in the AI community.\n",
      "\n",
      "## Conclusion\n",
      "As AI technology continues to advance, it is essential for individuals and businesses to stay informed about the latest trends and developments in the field. By understanding the key players in the AI industry, following noteworthy news in AI, and exploring case studies of AI applications, readers can gain valuable insights into the future outlook for AI technology. Let's embrace the possibilities of AI while also considering the ethical implications and societal impacts of this transformative technology.\n",
      "\n",
      "In conclusion, the world of Artificial Intelligence is constantly evolving, and staying informed about the latest trends and advancements is crucial for anyone interested in this field. By exploring the key players in the AI industry, understanding noteworthy news in AI, and discussing case studies and examples of AI applications, we can all contribute to the future of AI technology. Embrace the possibilities of AI while also considering the ethical considerations and societal impacts to ensure a responsible and sustainable integration of AI into our lives.\u001b[0m\n",
      "\n",
      "\u001b[1m> Finished chain.\u001b[0m\n",
      "\u001b[1m\u001b[92m [DEBUG]: == [Content Writer] Task output: # The Latest Trends in Artificial Intelligence: A Comprehensive Guide\n",
      "\n",
      "## Introduction to Artificial Intelligence\n",
      "Artificial Intelligence, often abbreviated as AI, is a rapidly evolving field that focuses on creating intelligent machines capable of performing tasks that typically require human intelligence. From machine learning advancements to natural language processing developments, AI technology is continuously pushing boundaries and transforming various industries. Staying updated on AI trends is crucial for tech enthusiasts, industry professionals, students, and business owners to understand the implications of this cutting-edge technology on society and the workforce.\n",
      "\n",
      "## Latest Trends in AI\n",
      "In recent years, AI has seen significant advancements in machine learning, enabling machines to learn from data and improve their performance without explicit programming. Natural language processing has also made great strides, allowing machines to understand, interpret, and generate human language. Autonomous vehicles and robotics are becoming more prevalent, revolutionizing transportation and manufacturing. Moreover, AI applications in healthcare and finance are enhancing decision-making processes and improving patient care and financial services.\n",
      "\n",
      "## Key Players in the AI Industry\n",
      "Several key players in the AI industry are leading the way in innovation and research. Google DeepMind, known for its AlphaGo program, has made significant contributions to AI research. IBM Watson is a pioneer in cognitive computing and AI solutions for businesses. Microsoft Azure offers a range of AI tools and services to empower organizations with AI capabilities. Tesla, with its self-driving technology, is at the forefront of autonomous vehicles and AI integration.\n",
      "\n",
      "## Noteworthy News in AI\n",
      "Recent breakthroughs in AI research, such as OpenAI's GPT-3 language model, have garnered attention for their impressive capabilities. The impact of AI on various industries, from retail to manufacturing, is reshaping business operations and customer experiences. Ethical considerations in AI development, such as bias in algorithms and data privacy concerns, are increasingly important topics for discussion and regulation in the AI community.\n",
      "\n",
      "## Conclusion\n",
      "As AI technology continues to advance, it is essential for individuals and businesses to stay informed about the latest trends and developments in the field. By understanding the key players in the AI industry, following noteworthy news in AI, and exploring case studies of AI applications, readers can gain valuable insights into the future outlook for AI technology. Let's embrace the possibilities of AI while also considering the ethical implications and societal impacts of this transformative technology.\n",
      "\n",
      "In conclusion, the world of Artificial Intelligence is constantly evolving, and staying informed about the latest trends and advancements is crucial for anyone interested in this field. By exploring the key players in the AI industry, understanding noteworthy news in AI, and discussing case studies and examples of AI applications, we can all contribute to the future of AI technology. Embrace the possibilities of AI while also considering the ethical considerations and societal impacts to ensure a responsible and sustainable integration of AI into our lives.\n",
      "\n",
      "\u001b[00m\n",
      "\u001b[1m\u001b[95m [DEBUG]: == Working Agent: Editor\u001b[00m\n",
      "\u001b[1m\u001b[95m [INFO]: == Starting Task: Proofread the given blog post for grammatical errors and alignment with the brand's voice.\u001b[00m\n",
      "\n",
      "\n",
      "\u001b[1m> Entering new CrewAgentExecutor chain...\u001b[0m\n"
     ]
    },
    {
     "name": "stdout",
     "output_type": "stream",
     "text": [
      "\u001b[32;1m\u001b[1;3mI now can give a great answer\n",
      "\n",
      "Final Answer:\n",
      "\n",
      "# The Latest Trends in Artificial Intelligence: A Comprehensive Guide\n",
      "\n",
      "## Introduction to Artificial Intelligence\n",
      "Artificial Intelligence, commonly known as AI, is an ever-evolving field that focuses on creating intelligent machines capable of performing tasks that typically require human intelligence. From advancements in machine learning to developments in natural language processing, AI technology is constantly pushing boundaries and revolutionizing various industries. It is essential for tech enthusiasts, industry professionals, students, and business owners to stay informed about the latest trends in AI to comprehend the impact of this cutting-edge technology on society and the workforce.\n",
      "\n",
      "## Latest Trends in AI\n",
      "In recent years, AI has witnessed significant progress in machine learning, enabling machines to learn from data and enhance their performance without explicit programming. Natural language processing has also made remarkable advancements, allowing machines to comprehend, interpret, and generate human language. The rise of autonomous vehicles and robotics is transforming transportation and manufacturing industries. Additionally, AI applications in healthcare and finance are streamlining decision-making processes and elevating patient care and financial services.\n",
      "\n",
      "## Key Players in the AI Industry\n",
      "Numerous key players in the AI industry are leading the charge in innovation and research. Google DeepMind, renowned for its AlphaGo program, has made substantial contributions to AI research. IBM Watson is a trailblazer in cognitive computing and offers AI solutions for businesses. Microsoft Azure provides a wide array of AI tools and services to empower organizations with AI capabilities. Tesla, with its self-driving technology, is spearheading autonomous vehicles and AI integration.\n",
      "\n",
      "## Noteworthy News in AI\n",
      "Recent breakthroughs in AI research, such as OpenAI's GPT-3 language model, have captivated attention due to their impressive capabilities. The influence of AI on various industries, ranging from retail to manufacturing, is reshaping business operations and enhancing customer experiences. Ethical considerations in AI development, including bias in algorithms and data privacy concerns, are becoming increasingly crucial topics for discussion and regulation within the AI community.\n",
      "\n",
      "## Conclusion\n",
      "As AI technology continues to progress, it is imperative for individuals and businesses to stay abreast of the latest trends and advancements in the field. By familiarizing themselves with the key players in the AI industry, keeping up with noteworthy news in AI, and exploring case studies of AI applications, readers can gain valuable insights into the future prospects of AI technology. Let's embrace the opportunities presented by AI while also reflecting on the ethical implications and societal impacts of this transformative technology.\n",
      "\n",
      "In conclusion, the realm of Artificial Intelligence is in a constant state of evolution, and staying informed about the latest trends and developments is essential for all those interested in this field. By delving into the key players in the AI industry, understanding noteworthy news in AI, and examining case studies and examples of AI applications, we can all contribute to shaping the future of AI technology. Embrace the possibilities of AI while also contemplating the ethical considerations and societal impacts to ensure a responsible and sustainable integration of AI into our lives.\u001b[0m\n",
      "\n",
      "\u001b[1m> Finished chain.\u001b[0m\n",
      "\u001b[1m\u001b[92m [DEBUG]: == [Editor] Task output: # The Latest Trends in Artificial Intelligence: A Comprehensive Guide\n",
      "\n",
      "## Introduction to Artificial Intelligence\n",
      "Artificial Intelligence, commonly known as AI, is an ever-evolving field that focuses on creating intelligent machines capable of performing tasks that typically require human intelligence. From advancements in machine learning to developments in natural language processing, AI technology is constantly pushing boundaries and revolutionizing various industries. It is essential for tech enthusiasts, industry professionals, students, and business owners to stay informed about the latest trends in AI to comprehend the impact of this cutting-edge technology on society and the workforce.\n",
      "\n",
      "## Latest Trends in AI\n",
      "In recent years, AI has witnessed significant progress in machine learning, enabling machines to learn from data and enhance their performance without explicit programming. Natural language processing has also made remarkable advancements, allowing machines to comprehend, interpret, and generate human language. The rise of autonomous vehicles and robotics is transforming transportation and manufacturing industries. Additionally, AI applications in healthcare and finance are streamlining decision-making processes and elevating patient care and financial services.\n",
      "\n",
      "## Key Players in the AI Industry\n",
      "Numerous key players in the AI industry are leading the charge in innovation and research. Google DeepMind, renowned for its AlphaGo program, has made substantial contributions to AI research. IBM Watson is a trailblazer in cognitive computing and offers AI solutions for businesses. Microsoft Azure provides a wide array of AI tools and services to empower organizations with AI capabilities. Tesla, with its self-driving technology, is spearheading autonomous vehicles and AI integration.\n",
      "\n",
      "## Noteworthy News in AI\n",
      "Recent breakthroughs in AI research, such as OpenAI's GPT-3 language model, have captivated attention due to their impressive capabilities. The influence of AI on various industries, ranging from retail to manufacturing, is reshaping business operations and enhancing customer experiences. Ethical considerations in AI development, including bias in algorithms and data privacy concerns, are becoming increasingly crucial topics for discussion and regulation within the AI community.\n",
      "\n",
      "## Conclusion\n",
      "As AI technology continues to progress, it is imperative for individuals and businesses to stay abreast of the latest trends and advancements in the field. By familiarizing themselves with the key players in the AI industry, keeping up with noteworthy news in AI, and exploring case studies of AI applications, readers can gain valuable insights into the future prospects of AI technology. Let's embrace the opportunities presented by AI while also reflecting on the ethical implications and societal impacts of this transformative technology.\n",
      "\n",
      "In conclusion, the realm of Artificial Intelligence is in a constant state of evolution, and staying informed about the latest trends and developments is essential for all those interested in this field. By delving into the key players in the AI industry, understanding noteworthy news in AI, and examining case studies and examples of AI applications, we can all contribute to shaping the future of AI technology. Embrace the possibilities of AI while also contemplating the ethical considerations and societal impacts to ensure a responsible and sustainable integration of AI into our lives.\n",
      "\n",
      "\u001b[00m\n"
     ]
    }
   ],
   "source": [
    "result = crew.kickoff(inputs={\"topic\": \"Artificial Intelligence\"})"
   ]
  },
  {
   "cell_type": "markdown",
   "metadata": {},
   "source": [
    "- Display the results of your execution as markdown in the notebook."
   ]
  },
  {
   "cell_type": "code",
   "execution_count": 12,
   "metadata": {
    "height": 47
   },
   "outputs": [
    {
     "data": {
      "text/markdown": [
       "# The Latest Trends in Artificial Intelligence: A Comprehensive Guide\n",
       "\n",
       "## Introduction to Artificial Intelligence\n",
       "Artificial Intelligence, commonly known as AI, is an ever-evolving field that focuses on creating intelligent machines capable of performing tasks that typically require human intelligence. From advancements in machine learning to developments in natural language processing, AI technology is constantly pushing boundaries and revolutionizing various industries. It is essential for tech enthusiasts, industry professionals, students, and business owners to stay informed about the latest trends in AI to comprehend the impact of this cutting-edge technology on society and the workforce.\n",
       "\n",
       "## Latest Trends in AI\n",
       "In recent years, AI has witnessed significant progress in machine learning, enabling machines to learn from data and enhance their performance without explicit programming. Natural language processing has also made remarkable advancements, allowing machines to comprehend, interpret, and generate human language. The rise of autonomous vehicles and robotics is transforming transportation and manufacturing industries. Additionally, AI applications in healthcare and finance are streamlining decision-making processes and elevating patient care and financial services.\n",
       "\n",
       "## Key Players in the AI Industry\n",
       "Numerous key players in the AI industry are leading the charge in innovation and research. Google DeepMind, renowned for its AlphaGo program, has made substantial contributions to AI research. IBM Watson is a trailblazer in cognitive computing and offers AI solutions for businesses. Microsoft Azure provides a wide array of AI tools and services to empower organizations with AI capabilities. Tesla, with its self-driving technology, is spearheading autonomous vehicles and AI integration.\n",
       "\n",
       "## Noteworthy News in AI\n",
       "Recent breakthroughs in AI research, such as OpenAI's GPT-3 language model, have captivated attention due to their impressive capabilities. The influence of AI on various industries, ranging from retail to manufacturing, is reshaping business operations and enhancing customer experiences. Ethical considerations in AI development, including bias in algorithms and data privacy concerns, are becoming increasingly crucial topics for discussion and regulation within the AI community.\n",
       "\n",
       "## Conclusion\n",
       "As AI technology continues to progress, it is imperative for individuals and businesses to stay abreast of the latest trends and advancements in the field. By familiarizing themselves with the key players in the AI industry, keeping up with noteworthy news in AI, and exploring case studies of AI applications, readers can gain valuable insights into the future prospects of AI technology. Let's embrace the opportunities presented by AI while also reflecting on the ethical implications and societal impacts of this transformative technology.\n",
       "\n",
       "In conclusion, the realm of Artificial Intelligence is in a constant state of evolution, and staying informed about the latest trends and developments is essential for all those interested in this field. By delving into the key players in the AI industry, understanding noteworthy news in AI, and examining case studies and examples of AI applications, we can all contribute to shaping the future of AI technology. Embrace the possibilities of AI while also contemplating the ethical considerations and societal impacts to ensure a responsible and sustainable integration of AI into our lives."
      ],
      "text/plain": [
       "<IPython.core.display.Markdown object>"
      ]
     },
     "execution_count": 12,
     "metadata": {},
     "output_type": "execute_result"
    }
   ],
   "source": [
    "from IPython.display import Markdown\n",
    "Markdown(result)"
   ]
  },
  {
   "cell_type": "markdown",
   "metadata": {},
   "source": [
    "## Try it Yourself\n",
    "\n",
    "- Pass in a topic of your choice and see what the agents come up with!"
   ]
  },
  {
   "cell_type": "code",
   "execution_count": 13,
   "metadata": {
    "height": 47
   },
   "outputs": [
    {
     "name": "stdout",
     "output_type": "stream",
     "text": [
      "\u001b[1m\u001b[95m [DEBUG]: == Working Agent: Content Planner\u001b[00m\n",
      "\u001b[1m\u001b[95m [INFO]: == Starting Task: 1. Prioritize the latest trends, key players, and noteworthy news on YOUR TOPIC HERE.\n",
      "2. Identify the target audience, considering their interests and pain points.\n",
      "3. Develop a detailed content outline including an introduction, key points, and a call to action.\n",
      "4. Include SEO keywords and relevant data or sources.\u001b[00m\n",
      "\n",
      "\n",
      "\u001b[1m> Entering new CrewAgentExecutor chain...\u001b[0m\n",
      "\u001b[32;1m\u001b[1;3mI now can give a great answer\n",
      "\n",
      "Final Answer: \n",
      "\n",
      "Title: The Rise of Sustainable Fashion: Trends, Players, and News\n",
      "\n",
      "Introduction:\n",
      "- Brief overview of the growing popularity of sustainable fashion\n",
      "- Importance of making informed decisions as consumers\n",
      "\n",
      "Key Points:\n",
      "1. Latest Trends in Sustainable Fashion\n",
      "- Rise of eco-friendly materials such as organic cotton, hemp, and recycled polyester\n",
      "- Adoption of circular fashion practices to reduce waste\n",
      "- Emphasis on ethical labor practices and transparency in the supply chain\n",
      "\n",
      "2. Key Players in the Sustainable Fashion Industry\n",
      "- Leading sustainable fashion brands such as Patagonia, Eileen Fisher, and Stella McCartney\n",
      "- Collaboration between mainstream brands and sustainable fashion labels\n",
      "- Role of influencers and celebrities in promoting sustainable fashion\n",
      "\n",
      "3. Noteworthy News in Sustainable Fashion\n",
      "- Legislation and regulations promoting sustainability in the fashion industry\n",
      "- Impact of COVID-19 on sustainable fashion practices\n",
      "- Success stories of sustainable fashion brands and initiatives\n",
      "\n",
      "Audience Analysis:\n",
      "- Target audience includes environmentally-conscious consumers, fashion enthusiasts, and individuals interested in ethical shopping\n",
      "- Interests: Fashion trends, sustainability, ethical practices in the fashion industry\n",
      "- Pain Points: Confusion about greenwashing, difficulty finding sustainable fashion options, high prices of sustainable clothing\n",
      "\n",
      "SEO Keywords:\n",
      "- Sustainable fashion trends, eco-friendly materials, circular fashion, ethical fashion brands, sustainable fashion news\n",
      "\n",
      "Call to Action:\n",
      "- Encourage readers to research sustainable fashion brands and practices before making a purchase\n",
      "- Provide resources for finding sustainable fashion options and tips for shopping ethically\n",
      "\n",
      "Resources:\n",
      "1. \"The True Cost\" documentary on the impact of fast fashion\n",
      "2. Sustainable Apparel Coalition website for information on sustainable fashion practices\n",
      "3. Vogue's coverage of sustainable fashion news and trends\n",
      "\n",
      "Overall, this blog article aims to educate and inform readers about the latest trends, key players, and noteworthy news in the sustainable fashion industry. By providing a comprehensive overview and resources, the audience can make informed decisions and support sustainability in their fashion choices.\u001b[0m\n",
      "\n",
      "\u001b[1m> Finished chain.\u001b[0m\n",
      "\u001b[1m\u001b[92m [DEBUG]: == [Content Planner] Task output: Title: The Rise of Sustainable Fashion: Trends, Players, and News\n",
      "\n",
      "Introduction:\n",
      "- Brief overview of the growing popularity of sustainable fashion\n",
      "- Importance of making informed decisions as consumers\n",
      "\n",
      "Key Points:\n",
      "1. Latest Trends in Sustainable Fashion\n",
      "- Rise of eco-friendly materials such as organic cotton, hemp, and recycled polyester\n",
      "- Adoption of circular fashion practices to reduce waste\n",
      "- Emphasis on ethical labor practices and transparency in the supply chain\n",
      "\n",
      "2. Key Players in the Sustainable Fashion Industry\n",
      "- Leading sustainable fashion brands such as Patagonia, Eileen Fisher, and Stella McCartney\n",
      "- Collaboration between mainstream brands and sustainable fashion labels\n",
      "- Role of influencers and celebrities in promoting sustainable fashion\n",
      "\n",
      "3. Noteworthy News in Sustainable Fashion\n",
      "- Legislation and regulations promoting sustainability in the fashion industry\n",
      "- Impact of COVID-19 on sustainable fashion practices\n",
      "- Success stories of sustainable fashion brands and initiatives\n",
      "\n",
      "Audience Analysis:\n",
      "- Target audience includes environmentally-conscious consumers, fashion enthusiasts, and individuals interested in ethical shopping\n",
      "- Interests: Fashion trends, sustainability, ethical practices in the fashion industry\n",
      "- Pain Points: Confusion about greenwashing, difficulty finding sustainable fashion options, high prices of sustainable clothing\n",
      "\n",
      "SEO Keywords:\n",
      "- Sustainable fashion trends, eco-friendly materials, circular fashion, ethical fashion brands, sustainable fashion news\n",
      "\n",
      "Call to Action:\n",
      "- Encourage readers to research sustainable fashion brands and practices before making a purchase\n",
      "- Provide resources for finding sustainable fashion options and tips for shopping ethically\n",
      "\n",
      "Resources:\n",
      "1. \"The True Cost\" documentary on the impact of fast fashion\n",
      "2. Sustainable Apparel Coalition website for information on sustainable fashion practices\n",
      "3. Vogue's coverage of sustainable fashion news and trends\n",
      "\n",
      "Overall, this blog article aims to educate and inform readers about the latest trends, key players, and noteworthy news in the sustainable fashion industry. By providing a comprehensive overview and resources, the audience can make informed decisions and support sustainability in their fashion choices.\n",
      "\n",
      "\u001b[00m\n",
      "\u001b[1m\u001b[95m [DEBUG]: == Working Agent: Content Writer\u001b[00m\n",
      "\u001b[1m\u001b[95m [INFO]: == Starting Task: 1. Use the content plan to craft a compelling blog post on YOUR TOPIC HERE.\n",
      "2. Incorporate SEO keywords naturally.\n",
      "3. Sections/Subtitles are properly named in an engaging manner.\n",
      "4. Ensure the post is structured with an engaging introduction, insightful body, and a summarizing conclusion.\n",
      "5. Proofread for grammatical errors and alignment with the brand's voice.\n",
      "\u001b[00m\n",
      "\n",
      "\n",
      "\u001b[1m> Entering new CrewAgentExecutor chain...\u001b[0m\n",
      "\u001b[32;1m\u001b[1;3mI now can give a great answer\n",
      "\n",
      "Final Answer:\n",
      "\n",
      "# The Rise of Sustainable Fashion: Trends, Players, and News\n",
      "\n",
      "In recent years, there has been a significant shift towards sustainable fashion as consumers become more conscious of the environmental and social impact of their clothing choices. With the rise of fast fashion and its detrimental effects on the planet, the importance of making informed decisions as consumers has never been more critical. By understanding the latest trends, key players, and noteworthy news in the sustainable fashion industry, individuals can support ethical and eco-friendly practices in the fashion world.\n",
      "\n",
      "## Latest Trends in Sustainable Fashion\n",
      "\n",
      "One of the most significant trends in sustainable fashion is the use of eco-friendly materials such as organic cotton, hemp, and recycled polyester. These materials not only reduce the environmental impact of clothing production but also promote a more sustainable future for the industry. Additionally, the adoption of circular fashion practices, which focus on reducing waste and extending the lifespan of clothing, has gained momentum. This shift towards a more circular economy is essential in minimizing the environmental footprint of the fashion industry. Furthermore, there is an emphasis on ethical labor practices and transparency in the supply chain, ensuring that workers are treated fairly and that consumers are aware of the production processes behind their clothing.\n",
      "\n",
      "## Key Players in the Sustainable Fashion Industry\n",
      "\n",
      "Leading sustainable fashion brands such as Patagonia, Eileen Fisher, and Stella McCartney have paved the way for ethical and eco-conscious practices in the industry. These brands prioritize sustainability in every aspect of their business, from sourcing materials to production processes. Moreover, there has been a rise in collaboration between mainstream brands and sustainable fashion labels, showcasing a growing interest in sustainability from all sectors of the industry. Influencers and celebrities also play a significant role in promoting sustainable fashion, using their platforms to raise awareness and encourage their followers to make more conscious clothing choices.\n",
      "\n",
      "## Noteworthy News in Sustainable Fashion\n",
      "\n",
      "Legislation and regulations promoting sustainability in the fashion industry have been on the rise, pushing brands to adopt more sustainable practices. Additionally, the impact of COVID-19 has highlighted the importance of sustainability in the fashion industry, with consumers reevaluating their shopping habits and supporting brands that prioritize ethical and eco-friendly practices. Success stories of sustainable fashion brands and initiatives serve as inspiration for the industry, showing that it is possible to create fashionable and sustainable clothing without compromising on style or quality.\n",
      "\n",
      "In conclusion, the rise of sustainable fashion is a positive shift towards a more ethical and eco-conscious industry. By staying informed about the latest trends, key players, and noteworthy news in sustainable fashion, consumers can make a positive impact through their clothing choices. It is essential to support brands that prioritize sustainability and to advocate for a more transparent and ethical fashion industry. Let's embrace sustainable fashion and contribute to a more sustainable future for all.\u001b[0m\n",
      "\n",
      "\u001b[1m> Finished chain.\u001b[0m\n",
      "\u001b[1m\u001b[92m [DEBUG]: == [Content Writer] Task output: # The Rise of Sustainable Fashion: Trends, Players, and News\n",
      "\n",
      "In recent years, there has been a significant shift towards sustainable fashion as consumers become more conscious of the environmental and social impact of their clothing choices. With the rise of fast fashion and its detrimental effects on the planet, the importance of making informed decisions as consumers has never been more critical. By understanding the latest trends, key players, and noteworthy news in the sustainable fashion industry, individuals can support ethical and eco-friendly practices in the fashion world.\n",
      "\n",
      "## Latest Trends in Sustainable Fashion\n",
      "\n",
      "One of the most significant trends in sustainable fashion is the use of eco-friendly materials such as organic cotton, hemp, and recycled polyester. These materials not only reduce the environmental impact of clothing production but also promote a more sustainable future for the industry. Additionally, the adoption of circular fashion practices, which focus on reducing waste and extending the lifespan of clothing, has gained momentum. This shift towards a more circular economy is essential in minimizing the environmental footprint of the fashion industry. Furthermore, there is an emphasis on ethical labor practices and transparency in the supply chain, ensuring that workers are treated fairly and that consumers are aware of the production processes behind their clothing.\n",
      "\n",
      "## Key Players in the Sustainable Fashion Industry\n",
      "\n",
      "Leading sustainable fashion brands such as Patagonia, Eileen Fisher, and Stella McCartney have paved the way for ethical and eco-conscious practices in the industry. These brands prioritize sustainability in every aspect of their business, from sourcing materials to production processes. Moreover, there has been a rise in collaboration between mainstream brands and sustainable fashion labels, showcasing a growing interest in sustainability from all sectors of the industry. Influencers and celebrities also play a significant role in promoting sustainable fashion, using their platforms to raise awareness and encourage their followers to make more conscious clothing choices.\n",
      "\n",
      "## Noteworthy News in Sustainable Fashion\n",
      "\n",
      "Legislation and regulations promoting sustainability in the fashion industry have been on the rise, pushing brands to adopt more sustainable practices. Additionally, the impact of COVID-19 has highlighted the importance of sustainability in the fashion industry, with consumers reevaluating their shopping habits and supporting brands that prioritize ethical and eco-friendly practices. Success stories of sustainable fashion brands and initiatives serve as inspiration for the industry, showing that it is possible to create fashionable and sustainable clothing without compromising on style or quality.\n",
      "\n",
      "In conclusion, the rise of sustainable fashion is a positive shift towards a more ethical and eco-conscious industry. By staying informed about the latest trends, key players, and noteworthy news in sustainable fashion, consumers can make a positive impact through their clothing choices. It is essential to support brands that prioritize sustainability and to advocate for a more transparent and ethical fashion industry. Let's embrace sustainable fashion and contribute to a more sustainable future for all.\n",
      "\n",
      "\u001b[00m\n",
      "\u001b[1m\u001b[95m [DEBUG]: == Working Agent: Editor\u001b[00m\n",
      "\u001b[1m\u001b[95m [INFO]: == Starting Task: Proofread the given blog post for grammatical errors and alignment with the brand's voice.\u001b[00m\n",
      "\n",
      "\n",
      "\u001b[1m> Entering new CrewAgentExecutor chain...\u001b[0m\n"
     ]
    },
    {
     "name": "stdout",
     "output_type": "stream",
     "text": [
      "\u001b[32;1m\u001b[1;3mI now can give a great answer\n",
      "\n",
      "Final Answer:\n",
      "# The Rise of Sustainable Fashion: Trends, Players, and News\n",
      "\n",
      "In recent years, there has been a significant shift towards sustainable fashion as consumers become more conscious of the environmental and social impact of their clothing choices. With the rise of fast fashion and its detrimental effects on the planet, the importance of making informed decisions as consumers has never been more critical. By understanding the latest trends, key players, and noteworthy news in the sustainable fashion industry, individuals can support ethical and eco-friendly practices in the fashion world.\n",
      "\n",
      "## Latest Trends in Sustainable Fashion\n",
      "\n",
      "One of the most significant trends in sustainable fashion is the use of eco-friendly materials such as organic cotton, hemp, and recycled polyester. These materials not only reduce the environmental impact of clothing production but also promote a more sustainable future for the industry. Additionally, the adoption of circular fashion practices, which focus on reducing waste and extending the lifespan of clothing, has gained momentum. This shift towards a more circular economy is essential in minimizing the environmental footprint of the fashion industry. Furthermore, there is an emphasis on ethical labor practices and transparency in the supply chain, ensuring that workers are treated fairly and that consumers are aware of the production processes behind their clothing.\n",
      "\n",
      "## Key Players in the Sustainable Fashion Industry\n",
      "\n",
      "Leading sustainable fashion brands such as Patagonia, Eileen Fisher, and Stella McCartney have paved the way for ethical and eco-conscious practices in the industry. These brands prioritize sustainability in every aspect of their business, from sourcing materials to production processes. Moreover, there has been a rise in collaboration between mainstream brands and sustainable fashion labels, showcasing a growing interest in sustainability from all sectors of the industry. Influencers and celebrities also play a significant role in promoting sustainable fashion, using their platforms to raise awareness and encourage their followers to make more conscious clothing choices.\n",
      "\n",
      "## Noteworthy News in Sustainable Fashion\n",
      "\n",
      "Legislation and regulations promoting sustainability in the fashion industry have been on the rise, pushing brands to adopt more sustainable practices. Additionally, the impact of COVID-19 has highlighted the importance of sustainability in the fashion industry, with consumers reevaluating their shopping habits and supporting brands that prioritize ethical and eco-friendly practices. Success stories of sustainable fashion brands and initiatives serve as inspiration for the industry, showing that it is possible to create fashionable and sustainable clothing without compromising on style or quality.\n",
      "\n",
      "In conclusion, the rise of sustainable fashion is a positive shift towards a more ethical and eco-conscious industry. By staying informed about the latest trends, key players, and noteworthy news in sustainable fashion, consumers can make a positive impact through their clothing choices. It is essential to support brands that prioritize sustainability and to advocate for a more transparent and ethical fashion industry. Let's embrace sustainable fashion and contribute to a more sustainable future for all.\u001b[0m\n",
      "\n",
      "\u001b[1m> Finished chain.\u001b[0m\n",
      "\u001b[1m\u001b[92m [DEBUG]: == [Editor] Task output: # The Rise of Sustainable Fashion: Trends, Players, and News\n",
      "\n",
      "In recent years, there has been a significant shift towards sustainable fashion as consumers become more conscious of the environmental and social impact of their clothing choices. With the rise of fast fashion and its detrimental effects on the planet, the importance of making informed decisions as consumers has never been more critical. By understanding the latest trends, key players, and noteworthy news in the sustainable fashion industry, individuals can support ethical and eco-friendly practices in the fashion world.\n",
      "\n",
      "## Latest Trends in Sustainable Fashion\n",
      "\n",
      "One of the most significant trends in sustainable fashion is the use of eco-friendly materials such as organic cotton, hemp, and recycled polyester. These materials not only reduce the environmental impact of clothing production but also promote a more sustainable future for the industry. Additionally, the adoption of circular fashion practices, which focus on reducing waste and extending the lifespan of clothing, has gained momentum. This shift towards a more circular economy is essential in minimizing the environmental footprint of the fashion industry. Furthermore, there is an emphasis on ethical labor practices and transparency in the supply chain, ensuring that workers are treated fairly and that consumers are aware of the production processes behind their clothing.\n",
      "\n",
      "## Key Players in the Sustainable Fashion Industry\n",
      "\n",
      "Leading sustainable fashion brands such as Patagonia, Eileen Fisher, and Stella McCartney have paved the way for ethical and eco-conscious practices in the industry. These brands prioritize sustainability in every aspect of their business, from sourcing materials to production processes. Moreover, there has been a rise in collaboration between mainstream brands and sustainable fashion labels, showcasing a growing interest in sustainability from all sectors of the industry. Influencers and celebrities also play a significant role in promoting sustainable fashion, using their platforms to raise awareness and encourage their followers to make more conscious clothing choices.\n",
      "\n",
      "## Noteworthy News in Sustainable Fashion\n",
      "\n",
      "Legislation and regulations promoting sustainability in the fashion industry have been on the rise, pushing brands to adopt more sustainable practices. Additionally, the impact of COVID-19 has highlighted the importance of sustainability in the fashion industry, with consumers reevaluating their shopping habits and supporting brands that prioritize ethical and eco-friendly practices. Success stories of sustainable fashion brands and initiatives serve as inspiration for the industry, showing that it is possible to create fashionable and sustainable clothing without compromising on style or quality.\n",
      "\n",
      "In conclusion, the rise of sustainable fashion is a positive shift towards a more ethical and eco-conscious industry. By staying informed about the latest trends, key players, and noteworthy news in sustainable fashion, consumers can make a positive impact through their clothing choices. It is essential to support brands that prioritize sustainability and to advocate for a more transparent and ethical fashion industry. Let's embrace sustainable fashion and contribute to a more sustainable future for all.\n",
      "\n",
      "\u001b[00m\n"
     ]
    }
   ],
   "source": [
    "topic = \"YOUR TOPIC HERE\"\n",
    "result = crew.kickoff(inputs={\"topic\": topic})"
   ]
  },
  {
   "cell_type": "code",
   "execution_count": 14,
   "metadata": {
    "height": 30
   },
   "outputs": [
    {
     "data": {
      "text/markdown": [
       "# The Rise of Sustainable Fashion: Trends, Players, and News\n",
       "\n",
       "In recent years, there has been a significant shift towards sustainable fashion as consumers become more conscious of the environmental and social impact of their clothing choices. With the rise of fast fashion and its detrimental effects on the planet, the importance of making informed decisions as consumers has never been more critical. By understanding the latest trends, key players, and noteworthy news in the sustainable fashion industry, individuals can support ethical and eco-friendly practices in the fashion world.\n",
       "\n",
       "## Latest Trends in Sustainable Fashion\n",
       "\n",
       "One of the most significant trends in sustainable fashion is the use of eco-friendly materials such as organic cotton, hemp, and recycled polyester. These materials not only reduce the environmental impact of clothing production but also promote a more sustainable future for the industry. Additionally, the adoption of circular fashion practices, which focus on reducing waste and extending the lifespan of clothing, has gained momentum. This shift towards a more circular economy is essential in minimizing the environmental footprint of the fashion industry. Furthermore, there is an emphasis on ethical labor practices and transparency in the supply chain, ensuring that workers are treated fairly and that consumers are aware of the production processes behind their clothing.\n",
       "\n",
       "## Key Players in the Sustainable Fashion Industry\n",
       "\n",
       "Leading sustainable fashion brands such as Patagonia, Eileen Fisher, and Stella McCartney have paved the way for ethical and eco-conscious practices in the industry. These brands prioritize sustainability in every aspect of their business, from sourcing materials to production processes. Moreover, there has been a rise in collaboration between mainstream brands and sustainable fashion labels, showcasing a growing interest in sustainability from all sectors of the industry. Influencers and celebrities also play a significant role in promoting sustainable fashion, using their platforms to raise awareness and encourage their followers to make more conscious clothing choices.\n",
       "\n",
       "## Noteworthy News in Sustainable Fashion\n",
       "\n",
       "Legislation and regulations promoting sustainability in the fashion industry have been on the rise, pushing brands to adopt more sustainable practices. Additionally, the impact of COVID-19 has highlighted the importance of sustainability in the fashion industry, with consumers reevaluating their shopping habits and supporting brands that prioritize ethical and eco-friendly practices. Success stories of sustainable fashion brands and initiatives serve as inspiration for the industry, showing that it is possible to create fashionable and sustainable clothing without compromising on style or quality.\n",
       "\n",
       "In conclusion, the rise of sustainable fashion is a positive shift towards a more ethical and eco-conscious industry. By staying informed about the latest trends, key players, and noteworthy news in sustainable fashion, consumers can make a positive impact through their clothing choices. It is essential to support brands that prioritize sustainability and to advocate for a more transparent and ethical fashion industry. Let's embrace sustainable fashion and contribute to a more sustainable future for all."
      ],
      "text/plain": [
       "<IPython.core.display.Markdown object>"
      ]
     },
     "execution_count": 14,
     "metadata": {},
     "output_type": "execute_result"
    }
   ],
   "source": [
    "Markdown(result)"
   ]
  },
  {
   "cell_type": "markdown",
   "metadata": {},
   "source": [
    "<a name='1'></a>\n",
    " ## Other Popular Models as LLM for your Agents"
   ]
  },
  {
   "cell_type": "markdown",
   "metadata": {},
   "source": [
    "#### Hugging Face (HuggingFaceHub endpoint)\n",
    "\n",
    "```Python\n",
    "from langchain_community.llms import HuggingFaceHub\n",
    "\n",
    "llm = HuggingFaceHub(\n",
    "    repo_id=\"HuggingFaceH4/zephyr-7b-beta\",\n",
    "    huggingfacehub_api_token=\"<HF_TOKEN_HERE>\",\n",
    "    task=\"text-generation\",\n",
    ")\n",
    "\n",
    "### you will pass \"llm\" to your agent function\n",
    "```"
   ]
  },
  {
   "cell_type": "markdown",
   "metadata": {},
   "source": [
    "#### Mistral API\n",
    "\n",
    "```Python\n",
    "OPENAI_API_KEY=your-mistral-api-key\n",
    "OPENAI_API_BASE=https://api.mistral.ai/v1\n",
    "OPENAI_MODEL_NAME=\"mistral-small\"\n",
    "```"
   ]
  },
  {
   "cell_type": "markdown",
   "metadata": {},
   "source": [
    "#### Cohere\n",
    "\n",
    "```Python\n",
    "from langchain_community.chat_models import ChatCohere\n",
    "# Initialize language model\n",
    "os.environ[\"COHERE_API_KEY\"] = \"your-cohere-api-key\"\n",
    "llm = ChatCohere()\n",
    "\n",
    "### you will pass \"llm\" to your agent function\n",
    "```"
   ]
  },
  {
   "cell_type": "markdown",
   "metadata": {},
   "source": [
    "### For using Llama locally with Ollama and more, checkout the crewAI documentation on [Connecting to any LLM](https://docs.crewai.com/how-to/LLM-Connections/)."
   ]
  },
  {
   "cell_type": "code",
   "execution_count": null,
   "metadata": {
    "height": 30
   },
   "outputs": [],
   "source": []
  },
  {
   "cell_type": "code",
   "execution_count": null,
   "metadata": {
    "height": 30
   },
   "outputs": [],
   "source": []
  },
  {
   "cell_type": "code",
   "execution_count": null,
   "metadata": {
    "height": 30
   },
   "outputs": [],
   "source": []
  }
 ],
 "metadata": {
  "colab": {
   "gpuType": "T4",
   "provenance": []
  },
  "kernelspec": {
   "display_name": "base",
   "language": "python",
   "name": "python3"
  },
  "language_info": {
   "codemirror_mode": {
    "name": "ipython",
    "version": 3
   },
   "file_extension": ".py",
   "mimetype": "text/x-python",
   "name": "python",
   "nbconvert_exporter": "python",
   "pygments_lexer": "ipython3",
   "version": "3.11.5"
  }
 },
 "nbformat": 4,
 "nbformat_minor": 4
}
