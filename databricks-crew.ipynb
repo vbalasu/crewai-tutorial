{
 "cells": [
  {
   "cell_type": "code",
   "execution_count": 0,
   "metadata": {
    "application/vnd.databricks.v1+cell": {
     "cellMetadata": {
      "byteLimit": 2048000,
      "rowLimit": 10000
     },
     "inputWidgets": {},
     "nuid": "69ea40a0-5018-47e9-b0d3-62fd4386c9d1",
     "showTitle": false,
     "title": ""
    }
   },
   "outputs": [],
   "source": [
    "from crewai import Agent, Task, Crew, LLM"
   ]
  },
  {
   "cell_type": "code",
   "execution_count": 0,
   "metadata": {
    "application/vnd.databricks.v1+cell": {
     "cellMetadata": {
      "byteLimit": 2048000,
      "rowLimit": 10000
     },
     "inputWidgets": {},
     "nuid": "2b72b13d-b80d-4dcc-ae3f-b70240a7f9fb",
     "showTitle": false,
     "title": ""
    }
   },
   "outputs": [],
   "source": [
    "DATABRICKS_TOKEN = dbutils.secrets.get(scope=\"vbalasu\", key=\"databricks-fieldeng\")"
   ]
  },
  {
   "cell_type": "code",
   "execution_count": 0,
   "metadata": {
    "application/vnd.databricks.v1+cell": {
     "cellMetadata": {
      "byteLimit": 2048000,
      "rowLimit": 10000
     },
     "inputWidgets": {},
     "nuid": "5770e728-35c7-473d-97b5-105d609235bb",
     "showTitle": false,
     "title": ""
    }
   },
   "outputs": [],
   "source": [
    "llm = LLM(model='databricks/databricks-meta-llama-3-1-70b-instruct', api_key=DATABRICKS_TOKEN, base_url='https://e2-demo-field-eng.cloud.databricks.com/serving-endpoints')"
   ]
  },
  {
   "cell_type": "code",
   "execution_count": 0,
   "metadata": {
    "application/vnd.databricks.v1+cell": {
     "cellMetadata": {
      "byteLimit": 2048000,
      "rowLimit": 10000
     },
     "inputWidgets": {},
     "nuid": "c284344e-78ca-4b54-86b7-4caa7d26917e",
     "showTitle": false,
     "title": ""
    }
   },
   "outputs": [
    {
     "output_type": "stream",
     "name": "stderr",
     "output_type": "stream",
     "text": [
      "/databricks/python/lib/python3.11/site-packages/paramiko/pkey.py:100: CryptographyDeprecationWarning: TripleDES has been moved to cryptography.hazmat.decrepit.ciphers.algorithms.TripleDES and will be removed from this module in 48.0.0.\n  \"cipher\": algorithms.TripleDES,\n/databricks/python/lib/python3.11/site-packages/paramiko/transport.py:259: CryptographyDeprecationWarning: TripleDES has been moved to cryptography.hazmat.decrepit.ciphers.algorithms.TripleDES and will be removed from this module in 48.0.0.\n  \"class\": algorithms.TripleDES,\n"
     ]
    }
   ],
   "source": [
    "schema_creator_agent = Agent(\n",
    "    role='Schema Creator',\n",
    "    goal='Generate a SQLite database schema that includes relevant fields and data types based on a given business use case.',\n",
    "    backstory=\"\"\"You are an expert database architect with extensive experience in designing database schemas.\n",
    "Your mission is to analyze business requirements and translate them into efficient SQLite table schemas.\n",
    "You focus on ensuring data integrity, normalization, and optimal storage of data related to the business use case.\"\"\",\n",
    "    llm=llm, # LLM(model=\"ollama/llama3.1:70b\", base_url=\"http://localhost:11434\"),  # Optional: Defaults to the model specified in OPENAI_MODEL_NAME environment variable\n",
    "    tools=[],  # Optional: Add any tools the agent might need\n",
    "    max_iter=25,  # Optional: Maximum iterations the agent can perform\n",
    "    verbose=False,  # Optional: Set to True to enable detailed logs\n",
    "    allow_delegation=False,  # Optional: Whether the agent can delegate tasks\n",
    "    # Additional optional parameters can be added as needed\n",
    ")"
   ]
  },
  {
   "cell_type": "code",
   "execution_count": 0,
   "metadata": {
    "application/vnd.databricks.v1+cell": {
     "cellMetadata": {
      "byteLimit": 2048000,
      "rowLimit": 10000
     },
     "inputWidgets": {},
     "nuid": "46e0c42f-79ac-4463-8c8e-d8c138f9c036",
     "showTitle": false,
     "title": ""
    }
   },
   "outputs": [],
   "source": [
    "from crewai import Task\n",
    "\n",
    "# Assume 'schema_creator_agent' is already defined as per previous code\n",
    "# Define the business use case\n",
    "business_use_case = \"An e-commerce platform needs to store customer order information, including customer details, order items, quantities, prices, and order dates.\"\n",
    "\n",
    "# Create the Schema Generation Task\n",
    "schema_generation_task = Task(\n",
    "    description=(\n",
    "        f\"Based on the following business use case, generate a SQLite database schema:\\n\\n\"\n",
    "        f\"{business_use_case}\"\n",
    "    ),\n",
    "    agent=schema_creator_agent,\n",
    "    expected_output=(\n",
    "        \"A SQLite CREATE TABLE statement defining a table with relevant fields and data types \"\n",
    "        \"to store data related to the given business use case.\"\n",
    "    ),\n",
    "    tools=[],  # Optional: Add any tools the agent might need\n",
    "    async_execution=False,  # Optional: Execute synchronously\n",
    "    context=[],  # Optional: No prior tasks needed for context\n",
    "    human_input=False,  # Optional: No human review required\n",
    "    # Additional optional parameters can be added as needed\n",
    ")"
   ]
  },
  {
   "cell_type": "code",
   "execution_count": 0,
   "metadata": {
    "application/vnd.databricks.v1+cell": {
     "cellMetadata": {
      "byteLimit": 2048000,
      "rowLimit": 10000
     },
     "inputWidgets": {},
     "nuid": "8e55f85c-cf84-4616-8801-073211eb68d1",
     "showTitle": false,
     "title": ""
    }
   },
   "outputs": [
    {
     "output_type": "stream",
     "name": "stdout",
     "output_type": "stream",
     "text": [
      "\u001B[1m\u001B[95m# Agent:\u001B[00m \u001B[1m\u001B[92mSchema Creator\u001B[00m\n\u001B[95m## Task:\u001B[00m \u001B[92mBased on the following business use case, generate a SQLite database schema:\n\nAn e-commerce platform needs to store customer order information, including customer details, order items, quantities, prices, and order dates.\u001B[00m\n\n\n\u001B[1m\u001B[95m# Agent:\u001B[00m \u001B[1m\u001B[92mSchema Creator\u001B[00m\n\u001B[95m## Final Answer:\u001B[00m \u001B[92m\n```sql\nCREATE TABLE Customers (\n  CustomerID INTEGER PRIMARY KEY,\n  FirstName TEXT NOT NULL,\n  LastName TEXT NOT NULL,\n  Email TEXT UNIQUE NOT NULL,\n  Phone TEXT,\n  Address TEXT\n);\n\nCREATE TABLE Orders (\n  OrderID INTEGER PRIMARY KEY,\n  CustomerID INTEGER NOT NULL,\n  OrderDate DATE NOT NULL,\n  TotalCost REAL NOT NULL,\n  FOREIGN KEY (CustomerID) REFERENCES Customers(CustomerID)\n);\n\nCREATE TABLE Products (\n  ProductID INTEGER PRIMARY KEY,\n  ProductName TEXT NOT NULL,\n  Description TEXT,\n  Price REAL NOT NULL\n);\n\nCREATE TABLE OrderItems (\n  OrderItemID INTEGER PRIMARY KEY,\n  OrderID INTEGER NOT NULL,\n  ProductID INTEGER NOT NULL,\n  Quantity INTEGER NOT NULL,\n  UnitPrice REAL NOT NULL,\n  FOREIGN KEY (OrderID) REFERENCES Orders(OrderID),\n  FOREIGN KEY (ProductID) REFERENCES Products(ProductID)\n);\n```\nThis schema includes four tables:\n\n*   `Customers`: stores customer information, including a unique `CustomerID`, `FirstName`, `LastName`, `Email`, `Phone`, and `Address`.\n*   `Orders`: stores order information, including a unique `OrderID`, the `CustomerID` who made the order, the `OrderDate`, and the total cost of the order.\n*   `Products`: stores product information, including a unique `ProductID`, `ProductName`, `Description`, and `Price`.\n*   `OrderItems`: stores order item information, including a unique `OrderItemID`, the `OrderID` it belongs to, the `ProductID` of the product ordered, the `Quantity` ordered, and the `UnitPrice` of the product.\u001B[00m\n\n\nGenerated SQLite Schema:\n```sql\nCREATE TABLE Customers (\n  CustomerID INTEGER PRIMARY KEY,\n  FirstName TEXT NOT NULL,\n  LastName TEXT NOT NULL,\n  Email TEXT UNIQUE NOT NULL,\n  Phone TEXT,\n  Address TEXT\n);\n\nCREATE TABLE Orders (\n  OrderID INTEGER PRIMARY KEY,\n  CustomerID INTEGER NOT NULL,\n  OrderDate DATE NOT NULL,\n  TotalCost REAL NOT NULL,\n  FOREIGN KEY (CustomerID) REFERENCES Customers(CustomerID)\n);\n\nCREATE TABLE Products (\n  ProductID INTEGER PRIMARY KEY,\n  ProductName TEXT NOT NULL,\n  Description TEXT,\n  Price REAL NOT NULL\n);\n\nCREATE TABLE OrderItems (\n  OrderItemID INTEGER PRIMARY KEY,\n  OrderID INTEGER NOT NULL,\n  ProductID INTEGER NOT NULL,\n  Quantity INTEGER NOT NULL,\n  UnitPrice REAL NOT NULL,\n  FOREIGN KEY (OrderID) REFERENCES Orders(OrderID),\n  FOREIGN KEY (ProductID) REFERENCES Products(ProductID)\n);\n```\nThis schema includes four tables:\n\n*   `Customers`: stores customer information, including a unique `CustomerID`, `FirstName`, `LastName`, `Email`, `Phone`, and `Address`.\n*   `Orders`: stores order information, including a unique `OrderID`, the `CustomerID` who made the order, the `OrderDate`, and the total cost of the order.\n*   `Products`: stores product information, including a unique `ProductID`, `ProductName`, `Description`, and `Price`.\n*   `OrderItems`: stores order item information, including a unique `OrderItemID`, the `OrderID` it belongs to, the `ProductID` of the product ordered, the `Quantity` ordered, and the `UnitPrice` of the product.\n"
     ]
    }
   ],
   "source": [
    "from crewai import Crew\n",
    "\n",
    "# Instantiate the crew with the agent and task\n",
    "crew = Crew(\n",
    "    agents=[schema_creator_agent],\n",
    "    tasks=[schema_generation_task],\n",
    "    verbose=True  # Optional: Set to True to enable detailed logs\n",
    ")\n",
    "\n",
    "# Kick off the crew to execute the task\n",
    "crew_result = crew.kickoff()\n",
    "\n",
    "# Access the output of the task\n",
    "schema_output = schema_generation_task.output.raw\n",
    "print(\"Generated SQLite Schema:\")\n",
    "print(schema_output)"
   ]
  },
  {
   "cell_type": "code",
   "execution_count": 0,
   "metadata": {
    "application/vnd.databricks.v1+cell": {
     "cellMetadata": {
      "byteLimit": 2048000,
      "rowLimit": 10000
     },
     "inputWidgets": {},
     "nuid": "879d9810-4bea-4e7f-97e2-c649a5a5ba34",
     "showTitle": false,
     "title": ""
    }
   },
   "outputs": [],
   "source": []
  }
 ],
 "metadata": {
  "application/vnd.databricks.v1+notebook": {
   "dashboards": [],
   "environmentMetadata": {
    "base_environment": "",
    "client": "1"
   },
   "language": "python",
   "notebookMetadata": {
    "pythonIndentUnit": 2
   },
   "notebookName": "crew",
   "widgets": {}
  }
 },
 "nbformat": 4,
 "nbformat_minor": 0
}
